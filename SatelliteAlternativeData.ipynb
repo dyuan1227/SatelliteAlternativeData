{
 "cells": [
  {
   "cell_type": "markdown",
   "metadata": {},
   "source": [
    "# Satelite Alternative Data Project"
   ]
  },
  {
   "cell_type": "code",
   "execution_count": 25,
   "metadata": {},
   "outputs": [],
   "source": [
    "import pandas as pd\n",
    "import numpy as np\n",
    "from datetime import datetime\n",
    "from datetime import timedelta\n",
    "import matplotlib.pyplot as plt\n",
    "import os\n",
    "import yfinance as yf\n",
    "from colorthief import ColorThief"
   ]
  },
  {
   "cell_type": "markdown",
   "metadata": {},
   "source": [
    "## Read in the images in the format of RGB values"
   ]
  },
  {
   "cell_type": "code",
   "execution_count": 26,
   "metadata": {},
   "outputs": [],
   "source": [
    "image_df = pd.DataFrame(columns = ['date', 'R', 'G', 'B'])\n",
    "for filename in os.listdir('satellite_imagery'):\n",
    "    if filename.endswith('.png'):\n",
    "        date = datetime.strptime(filename[8:16],\"%Y%m%d\")\n",
    "        color_thief = ColorThief('satellite_imagery/' + filename)\n",
    "        #extract rgb elements from png file\n",
    "        dom_color = color_thief.get_color(quality = 1)\n",
    "        image_df = image_df.append({'date': date, \n",
    "                        'R': dom_color[0], \n",
    "                        'G': dom_color[1], \n",
    "                        'B': dom_color[2]}, \n",
    "                        ignore_index=True)"
   ]
  },
  {
   "cell_type": "code",
   "execution_count": 27,
   "metadata": {},
   "outputs": [
    {
     "data": {
      "text/html": [
       "<div>\n",
       "<style scoped>\n",
       "    .dataframe tbody tr th:only-of-type {\n",
       "        vertical-align: middle;\n",
       "    }\n",
       "\n",
       "    .dataframe tbody tr th {\n",
       "        vertical-align: top;\n",
       "    }\n",
       "\n",
       "    .dataframe thead th {\n",
       "        text-align: right;\n",
       "    }\n",
       "</style>\n",
       "<table border=\"1\" class=\"dataframe\">\n",
       "  <thead>\n",
       "    <tr style=\"text-align: right;\">\n",
       "      <th></th>\n",
       "      <th>date</th>\n",
       "      <th>R</th>\n",
       "      <th>G</th>\n",
       "      <th>B</th>\n",
       "    </tr>\n",
       "  </thead>\n",
       "  <tbody>\n",
       "    <tr>\n",
       "      <th>14</th>\n",
       "      <td>2017-02-13</td>\n",
       "      <td>24</td>\n",
       "      <td>25</td>\n",
       "      <td>34</td>\n",
       "    </tr>\n",
       "    <tr>\n",
       "      <th>29</th>\n",
       "      <td>2017-03-17</td>\n",
       "      <td>9</td>\n",
       "      <td>15</td>\n",
       "      <td>27</td>\n",
       "    </tr>\n",
       "    <tr>\n",
       "      <th>18</th>\n",
       "      <td>2017-04-02</td>\n",
       "      <td>40</td>\n",
       "      <td>74</td>\n",
       "      <td>135</td>\n",
       "    </tr>\n",
       "    <tr>\n",
       "      <th>70</th>\n",
       "      <td>2017-04-18</td>\n",
       "      <td>40</td>\n",
       "      <td>71</td>\n",
       "      <td>126</td>\n",
       "    </tr>\n",
       "    <tr>\n",
       "      <th>25</th>\n",
       "      <td>2017-05-04</td>\n",
       "      <td>40</td>\n",
       "      <td>71</td>\n",
       "      <td>117</td>\n",
       "    </tr>\n",
       "    <tr>\n",
       "      <th>77</th>\n",
       "      <td>2017-06-21</td>\n",
       "      <td>16</td>\n",
       "      <td>21</td>\n",
       "      <td>30</td>\n",
       "    </tr>\n",
       "  </tbody>\n",
       "</table>\n",
       "</div>"
      ],
      "text/plain": [
       "         date   R   G    B\n",
       "14 2017-02-13  24  25   34\n",
       "29 2017-03-17   9  15   27\n",
       "18 2017-04-02  40  74  135\n",
       "70 2017-04-18  40  71  126\n",
       "25 2017-05-04  40  71  117\n",
       "77 2017-06-21  16  21   30"
      ]
     },
     "execution_count": 27,
     "metadata": {},
     "output_type": "execute_result"
    }
   ],
   "source": [
    "image_df = image_df.sort_values(by = 'date')\n",
    "image_df.head(6)"
   ]
  },
  {
   "cell_type": "code",
   "execution_count": 28,
   "metadata": {},
   "outputs": [
    {
     "name": "stdout",
     "output_type": "stream",
     "text": [
      "[*********************100%***********************]  1 of 1 completed\n"
     ]
    }
   ],
   "source": [
    "#compare it with spy, s&p index\n",
    "spy = yf.download(\"SPY\", start=\"2017-01-02\", end=\"2020-09-01\")"
   ]
  },
  {
   "cell_type": "code",
   "execution_count": 29,
   "metadata": {},
   "outputs": [
    {
     "name": "stderr",
     "output_type": "stream",
     "text": [
      "<ipython-input-29-ee8f80021713>:4: SettingWithCopyWarning: \n",
      "A value is trying to be set on a copy of a slice from a DataFrame.\n",
      "Try using .loc[row_indexer,col_indexer] = value instead\n",
      "\n",
      "See the caveats in the documentation: https://pandas.pydata.org/pandas-docs/stable/user_guide/indexing.html#returning-a-view-versus-a-copy\n",
      "  spysubset['return']=spysubset['Adj Close'].pct_change()\n"
     ]
    },
    {
     "data": {
      "text/html": [
       "<div>\n",
       "<style scoped>\n",
       "    .dataframe tbody tr th:only-of-type {\n",
       "        vertical-align: middle;\n",
       "    }\n",
       "\n",
       "    .dataframe tbody tr th {\n",
       "        vertical-align: top;\n",
       "    }\n",
       "\n",
       "    .dataframe thead th {\n",
       "        text-align: right;\n",
       "    }\n",
       "</style>\n",
       "<table border=\"1\" class=\"dataframe\">\n",
       "  <thead>\n",
       "    <tr style=\"text-align: right;\">\n",
       "      <th></th>\n",
       "      <th>Date</th>\n",
       "      <th>return</th>\n",
       "    </tr>\n",
       "  </thead>\n",
       "  <tbody>\n",
       "    <tr>\n",
       "      <th>1</th>\n",
       "      <td>2017-01-04</td>\n",
       "      <td>0.005949</td>\n",
       "    </tr>\n",
       "    <tr>\n",
       "      <th>2</th>\n",
       "      <td>2017-01-05</td>\n",
       "      <td>-0.000795</td>\n",
       "    </tr>\n",
       "    <tr>\n",
       "      <th>3</th>\n",
       "      <td>2017-01-06</td>\n",
       "      <td>0.003578</td>\n",
       "    </tr>\n",
       "    <tr>\n",
       "      <th>4</th>\n",
       "      <td>2017-01-09</td>\n",
       "      <td>-0.003301</td>\n",
       "    </tr>\n",
       "    <tr>\n",
       "      <th>5</th>\n",
       "      <td>2017-01-10</td>\n",
       "      <td>0.000000</td>\n",
       "    </tr>\n",
       "    <tr>\n",
       "      <th>6</th>\n",
       "      <td>2017-01-11</td>\n",
       "      <td>0.002826</td>\n",
       "    </tr>\n",
       "  </tbody>\n",
       "</table>\n",
       "</div>"
      ],
      "text/plain": [
       "        Date    return\n",
       "1 2017-01-04  0.005949\n",
       "2 2017-01-05 -0.000795\n",
       "3 2017-01-06  0.003578\n",
       "4 2017-01-09 -0.003301\n",
       "5 2017-01-10  0.000000\n",
       "6 2017-01-11  0.002826"
      ]
     },
     "execution_count": 29,
     "metadata": {},
     "output_type": "execute_result"
    }
   ],
   "source": [
    "spy=spy.reset_index()\n",
    "spysubset=spy[[\"Date\",\"Adj Close\"]]\n",
    "#closing price and date\n",
    "spysubset['return']=spysubset['Adj Close'].pct_change()\n",
    "spysubset=spysubset.drop(['Adj Close'], axis=1)\n",
    "spysubset=spysubset.drop([0])\n",
    "#only looking at pct_change as return\n",
    "spysubset.head(6)"
   ]
  },
  {
   "cell_type": "code",
   "execution_count": 142,
   "metadata": {},
   "outputs": [
    {
     "data": {
      "text/html": [
       "<div>\n",
       "<style scoped>\n",
       "    .dataframe tbody tr th:only-of-type {\n",
       "        vertical-align: middle;\n",
       "    }\n",
       "\n",
       "    .dataframe tbody tr th {\n",
       "        vertical-align: top;\n",
       "    }\n",
       "\n",
       "    .dataframe thead th {\n",
       "        text-align: right;\n",
       "    }\n",
       "</style>\n",
       "<table border=\"1\" class=\"dataframe\">\n",
       "  <thead>\n",
       "    <tr style=\"text-align: right;\">\n",
       "      <th></th>\n",
       "      <th>Date</th>\n",
       "      <th>return</th>\n",
       "      <th>R</th>\n",
       "      <th>G</th>\n",
       "      <th>B</th>\n",
       "    </tr>\n",
       "  </thead>\n",
       "  <tbody>\n",
       "    <tr>\n",
       "      <th>0</th>\n",
       "      <td>2017-02-13</td>\n",
       "      <td>0.005443</td>\n",
       "      <td>24</td>\n",
       "      <td>25</td>\n",
       "      <td>34</td>\n",
       "    </tr>\n",
       "    <tr>\n",
       "      <th>1</th>\n",
       "      <td>2017-03-17</td>\n",
       "      <td>-0.001756</td>\n",
       "      <td>9</td>\n",
       "      <td>15</td>\n",
       "      <td>27</td>\n",
       "    </tr>\n",
       "    <tr>\n",
       "      <th>2</th>\n",
       "      <td>2017-04-18</td>\n",
       "      <td>-0.002984</td>\n",
       "      <td>40</td>\n",
       "      <td>71</td>\n",
       "      <td>126</td>\n",
       "    </tr>\n",
       "    <tr>\n",
       "      <th>3</th>\n",
       "      <td>2017-05-04</td>\n",
       "      <td>0.001174</td>\n",
       "      <td>40</td>\n",
       "      <td>71</td>\n",
       "      <td>117</td>\n",
       "    </tr>\n",
       "    <tr>\n",
       "      <th>4</th>\n",
       "      <td>2017-06-21</td>\n",
       "      <td>-0.000247</td>\n",
       "      <td>16</td>\n",
       "      <td>21</td>\n",
       "      <td>30</td>\n",
       "    </tr>\n",
       "    <tr>\n",
       "      <th>5</th>\n",
       "      <td>2017-08-24</td>\n",
       "      <td>-0.002331</td>\n",
       "      <td>18</td>\n",
       "      <td>36</td>\n",
       "      <td>60</td>\n",
       "    </tr>\n",
       "  </tbody>\n",
       "</table>\n",
       "</div>"
      ],
      "text/plain": [
       "        Date    return   R   G    B\n",
       "0 2017-02-13  0.005443  24  25   34\n",
       "1 2017-03-17 -0.001756   9  15   27\n",
       "2 2017-04-18 -0.002984  40  71  126\n",
       "3 2017-05-04  0.001174  40  71  117\n",
       "4 2017-06-21 -0.000247  16  21   30\n",
       "5 2017-08-24 -0.002331  18  36   60"
      ]
     },
     "execution_count": 142,
     "metadata": {},
     "output_type": "execute_result"
    }
   ],
   "source": [
    "combine=spysubset.merge(image_df, left_on=\"Date\", right_on=\"date\",how=\"inner\")\n",
    "combine=combine.drop(['date'],axis=1)\n",
    "combine.head(6)"
   ]
  },
  {
   "cell_type": "markdown",
   "metadata": {},
   "source": [
    "## Machine Learning to find pattern - Fitting Gradient Boosting"
   ]
  },
  {
   "cell_type": "code",
   "execution_count": 143,
   "metadata": {},
   "outputs": [],
   "source": [
    "from sklearn.model_selection import train_test_split\n",
    "from sklearn.model_selection import cross_val_score\n",
    "from sklearn.metrics import mean_squared_error\n",
    "from sklearn.ensemble import GradientBoostingRegressor"
   ]
  },
  {
   "cell_type": "code",
   "execution_count": 144,
   "metadata": {},
   "outputs": [],
   "source": [
    "X=combine.iloc[:,2:]\n",
    "y=combine.iloc[:,1]"
   ]
  },
  {
   "cell_type": "code",
   "execution_count": 145,
   "metadata": {},
   "outputs": [],
   "source": [
    "X=X.astype('float64')"
   ]
  },
  {
   "cell_type": "code",
   "execution_count": 146,
   "metadata": {},
   "outputs": [],
   "source": [
    "y = y.round(5)"
   ]
  },
  {
   "cell_type": "code",
   "execution_count": 147,
   "metadata": {},
   "outputs": [],
   "source": [
    "X_train, X_test, y_train, y_test = train_test_split(X, y, test_size=0.33, random_state=42)"
   ]
  },
  {
   "cell_type": "code",
   "execution_count": 156,
   "metadata": {},
   "outputs": [
    {
     "data": {
      "text/plain": [
       "8.858029061792116e-05"
      ]
     },
     "execution_count": 156,
     "metadata": {},
     "output_type": "execute_result"
    }
   ],
   "source": [
    "from sklearn.linear_model import LinearRegression\n",
    "from sklearn.metrics import mean_squared_error\n",
    "\n",
    "lr_clf = LinearRegression().fit(X_train, y_train)\n",
    "lr_clf_pred = lr_clf.predict(X_test)\n",
    "\n",
    "mean_squared_error(y_test, lr_clf_pred)\n",
    "\n",
    "#lr_clf.score(x, y)\n",
    "#lr_clf.coef_\n"
   ]
  },
  {
   "cell_type": "code",
   "execution_count": 157,
   "metadata": {},
   "outputs": [
    {
     "name": "stdout",
     "output_type": "stream",
     "text": [
      "[-2.33261404 -0.62468795 -3.41047998 -0.01339193 -0.0523864 ]\n"
     ]
    },
    {
     "data": {
      "text/plain": [
       "-1.286712061522684"
      ]
     },
     "execution_count": 157,
     "metadata": {},
     "output_type": "execute_result"
    }
   ],
   "source": [
    "scores = cross_val_score(lr_clf, X, y, cv=5)\n",
    "print(scores)\n",
    "scores.mean()"
   ]
  },
  {
   "cell_type": "code",
   "execution_count": 149,
   "metadata": {},
   "outputs": [
    {
     "name": "stdout",
     "output_type": "stream",
     "text": [
      "[-4.1991462   0.03012975 -0.03916169  0.09344947  0.01786909]\n"
     ]
    },
    {
     "data": {
      "text/plain": [
       "-0.8193719155006454"
      ]
     },
     "execution_count": 149,
     "metadata": {},
     "output_type": "execute_result"
    }
   ],
   "source": [
    "gb = GradientBoostingRegressor(n_estimators=30, learning_rate=0.01, max_depth=4)\n",
    "scores = cross_val_score(gb, X, y, cv=5)\n",
    "print(scores)\n",
    "scores.mean()"
   ]
  },
  {
   "cell_type": "code",
   "execution_count": 150,
   "metadata": {},
   "outputs": [
    {
     "name": "stdout",
     "output_type": "stream",
     "text": [
      "Fitting 5 folds for each of 100 candidates, totalling 500 fits\n"
     ]
    },
    {
     "data": {
      "text/plain": [
       "{'learning_rate': 0.01, 'max_depth': 8, 'n_estimators': 30}"
      ]
     },
     "execution_count": 150,
     "metadata": {},
     "output_type": "execute_result"
    }
   ],
   "source": [
    "#with grid search\n",
    "from sklearn.model_selection import GridSearchCV, cross_val_score, StratifiedKFold, learning_curve, cross_validate\n",
    "\n",
    "kfold = 5\n",
    "\n",
    "GBC = GradientBoostingRegressor()\n",
    "gb_param = [{\n",
    "              'n_estimators' : [30,40,50,70,100],\n",
    "              'learning_rate': [0.01, 0.05, 0.1, 0.2],\n",
    "              'max_depth': [4,5,6,7,8],\n",
    "              }]\n",
    "\n",
    "gs_GBC = GridSearchCV(GBC, param_grid = gb_param, cv=kfold, n_jobs= 2, verbose = 1)\n",
    "\n",
    "gs_GBC.fit(combine.iloc[:,2:],combine.iloc[:,1])\n",
    "gs_GBC.best_params_\n"
   ]
  },
  {
   "cell_type": "code",
   "execution_count": 151,
   "metadata": {},
   "outputs": [
    {
     "data": {
      "text/plain": [
       "nan"
      ]
     },
     "execution_count": 151,
     "metadata": {},
     "output_type": "execute_result"
    }
   ],
   "source": [
    "gs_GBC_result = cross_val_score(gs_GBC, X_test, y_test, scoring = \"accuracy\", cv = kfold, n_jobs=2)\n",
    "gs_GBC_result.mean()"
   ]
  },
  {
   "cell_type": "code",
   "execution_count": 141,
   "metadata": {},
   "outputs": [
    {
     "name": "stdout",
     "output_type": "stream",
     "text": [
      "[-1.44000e-04  1.61420e-03  5.31020e-03  2.46230e-03  1.20073e-02\n",
      " -4.18420e-03 -4.22880e-03  2.05350e-03  5.97000e-05 -9.40800e-03\n",
      "  2.67710e-03 -7.47500e-04  6.19100e-04  6.68990e-03 -1.41617e-02\n",
      "  1.91990e-03 -5.95870e-03  1.70830e-03  5.55730e-03 -1.04790e-02]\n"
     ]
    },
    {
     "data": {
      "text/plain": [
       "-0.9919229162123138"
      ]
     },
     "execution_count": 141,
     "metadata": {},
     "output_type": "execute_result"
    }
   ],
   "source": [
    "##randon\n",
    "from sklearn.ensemble import RandomForestRegressor\n",
    "from sklearn.metrics import r2_score\n",
    "RF_clf = RandomForestRegressor(n_estimators=100, max_features = 3, oob_score = True, random_state=42 )\n",
    "RF_clf.fit(X_train, y_train)\n",
    "##regression use score function, not cross_val_score function\n",
    "pred=RF_clf.predict(X_test)\n",
    "print(pred)\n",
    "RF_clf.score(X_test, y_test)\n",
    "#scores = cross_val_score(RF_clf, X, y, cv=5, scoring=\"accuracy\")\n",
    "#scores\n",
    "rsquare = r2_score(y_test, RF_clf.predict(X_test))\n",
    "rsquare"
   ]
  },
  {
   "cell_type": "code",
   "execution_count": null,
   "metadata": {},
   "outputs": [],
   "source": []
  },
  {
   "cell_type": "code",
   "execution_count": 15,
   "metadata": {},
   "outputs": [],
   "source": [
    "combine['Predict']=gb.predict(X)"
   ]
  },
  {
   "cell_type": "code",
   "execution_count": 16,
   "metadata": {},
   "outputs": [
    {
     "data": {
      "text/html": [
       "<div>\n",
       "<style scoped>\n",
       "    .dataframe tbody tr th:only-of-type {\n",
       "        vertical-align: middle;\n",
       "    }\n",
       "\n",
       "    .dataframe tbody tr th {\n",
       "        vertical-align: top;\n",
       "    }\n",
       "\n",
       "    .dataframe thead th {\n",
       "        text-align: right;\n",
       "    }\n",
       "</style>\n",
       "<table border=\"1\" class=\"dataframe\">\n",
       "  <thead>\n",
       "    <tr style=\"text-align: right;\">\n",
       "      <th></th>\n",
       "      <th>Date</th>\n",
       "      <th>return</th>\n",
       "      <th>R</th>\n",
       "      <th>G</th>\n",
       "      <th>B</th>\n",
       "      <th>Predict</th>\n",
       "    </tr>\n",
       "  </thead>\n",
       "  <tbody>\n",
       "    <tr>\n",
       "      <th>0</th>\n",
       "      <td>2017-02-13</td>\n",
       "      <td>0.005443</td>\n",
       "      <td>24</td>\n",
       "      <td>25</td>\n",
       "      <td>34</td>\n",
       "      <td>0.001777</td>\n",
       "    </tr>\n",
       "    <tr>\n",
       "      <th>1</th>\n",
       "      <td>2017-03-17</td>\n",
       "      <td>-0.001756</td>\n",
       "      <td>9</td>\n",
       "      <td>15</td>\n",
       "      <td>27</td>\n",
       "      <td>0.001726</td>\n",
       "    </tr>\n",
       "    <tr>\n",
       "      <th>2</th>\n",
       "      <td>2017-04-18</td>\n",
       "      <td>-0.002984</td>\n",
       "      <td>40</td>\n",
       "      <td>71</td>\n",
       "      <td>126</td>\n",
       "      <td>0.000385</td>\n",
       "    </tr>\n",
       "    <tr>\n",
       "      <th>3</th>\n",
       "      <td>2017-05-04</td>\n",
       "      <td>0.001174</td>\n",
       "      <td>40</td>\n",
       "      <td>71</td>\n",
       "      <td>117</td>\n",
       "      <td>0.001009</td>\n",
       "    </tr>\n",
       "    <tr>\n",
       "      <th>4</th>\n",
       "      <td>2017-06-21</td>\n",
       "      <td>-0.000247</td>\n",
       "      <td>16</td>\n",
       "      <td>21</td>\n",
       "      <td>30</td>\n",
       "      <td>0.004736</td>\n",
       "    </tr>\n",
       "    <tr>\n",
       "      <th>5</th>\n",
       "      <td>2017-08-24</td>\n",
       "      <td>-0.002331</td>\n",
       "      <td>18</td>\n",
       "      <td>36</td>\n",
       "      <td>60</td>\n",
       "      <td>0.001777</td>\n",
       "    </tr>\n",
       "    <tr>\n",
       "      <th>6</th>\n",
       "      <td>2017-09-01</td>\n",
       "      <td>0.001414</td>\n",
       "      <td>15</td>\n",
       "      <td>19</td>\n",
       "      <td>20</td>\n",
       "      <td>-0.003805</td>\n",
       "    </tr>\n",
       "    <tr>\n",
       "      <th>7</th>\n",
       "      <td>2017-09-25</td>\n",
       "      <td>-0.002045</td>\n",
       "      <td>13</td>\n",
       "      <td>23</td>\n",
       "      <td>37</td>\n",
       "      <td>0.001777</td>\n",
       "    </tr>\n",
       "    <tr>\n",
       "      <th>8</th>\n",
       "      <td>2017-10-03</td>\n",
       "      <td>0.002140</td>\n",
       "      <td>11</td>\n",
       "      <td>16</td>\n",
       "      <td>18</td>\n",
       "      <td>-0.006815</td>\n",
       "    </tr>\n",
       "    <tr>\n",
       "      <th>9</th>\n",
       "      <td>2017-10-19</td>\n",
       "      <td>0.000274</td>\n",
       "      <td>9</td>\n",
       "      <td>14</td>\n",
       "      <td>18</td>\n",
       "      <td>-0.006815</td>\n",
       "    </tr>\n",
       "  </tbody>\n",
       "</table>\n",
       "</div>"
      ],
      "text/plain": [
       "        Date    return   R   G    B   Predict\n",
       "0 2017-02-13  0.005443  24  25   34  0.001777\n",
       "1 2017-03-17 -0.001756   9  15   27  0.001726\n",
       "2 2017-04-18 -0.002984  40  71  126  0.000385\n",
       "3 2017-05-04  0.001174  40  71  117  0.001009\n",
       "4 2017-06-21 -0.000247  16  21   30  0.004736\n",
       "5 2017-08-24 -0.002331  18  36   60  0.001777\n",
       "6 2017-09-01  0.001414  15  19   20 -0.003805\n",
       "7 2017-09-25 -0.002045  13  23   37  0.001777\n",
       "8 2017-10-03  0.002140  11  16   18 -0.006815\n",
       "9 2017-10-19  0.000274   9  14   18 -0.006815"
      ]
     },
     "execution_count": 16,
     "metadata": {},
     "output_type": "execute_result"
    }
   ],
   "source": [
    "combine.head(10)"
   ]
  },
  {
   "cell_type": "markdown",
   "metadata": {},
   "source": [
    "## Checking for Percentile"
   ]
  },
  {
   "cell_type": "code",
   "execution_count": 17,
   "metadata": {},
   "outputs": [
    {
     "data": {
      "text/plain": [
       "array([-0.03891386,  0.00100946,  0.00177724,  0.00473562,  0.00473562])"
      ]
     },
     "execution_count": 17,
     "metadata": {},
     "output_type": "execute_result"
    }
   ],
   "source": [
    "np.percentile(combine['Predict'],q=[0,25,50,75,100])"
   ]
  },
  {
   "cell_type": "markdown",
   "metadata": {},
   "source": [
    "## Build a trading strategy \n",
    "If the prediction return is above the return median then buy one SPY stock and hold for one day, \n",
    "else sell one SPY stock and buy one back tomorrow"
   ]
  },
  {
   "cell_type": "code",
   "execution_count": 18,
   "metadata": {},
   "outputs": [],
   "source": [
    "daily_strategy_return = []\n",
    "\n",
    "for index in range(0,len(combine)):\n",
    "    if combine.iloc[index]['Predict'] > 0.00177724:\n",
    "        daily_strategy_return.append(combine['return'].iloc[index])\n",
    "    else:\n",
    "        daily_strategy_return.append(-combine['return'].iloc[index])"
   ]
  },
  {
   "cell_type": "markdown",
   "metadata": {},
   "source": [
    "## Compute compounded returns and plot the performance"
   ]
  },
  {
   "cell_type": "code",
   "execution_count": 21,
   "metadata": {},
   "outputs": [
    {
     "data": {
      "image/png": "[encoded data removed]",
      "text/plain": [
       "<Figure size 432x288 with 1 Axes>"
      ]
     },
     "metadata": {
      "needs_background": "light"
     },
     "output_type": "display_data"
    }
   ],
   "source": [
    "compound_return = np.cumsum(daily_strategy_return)\n",
    "\n",
    "plt.title('Cumulative returns')\n",
    "plt.plot(combine['Date'], compound_return)\n",
    "plt.show()"
   ]
  },
  {
   "cell_type": "code",
   "execution_count": 22,
   "metadata": {},
   "outputs": [],
   "source": [
    "def calc_max_drawdown(arr):\n",
    "    maxR, maxD = 0, 0\n",
    "    cR, cD = 0, 0\n",
    "    for ele in arr:\n",
    "        cR += ele\n",
    "        if cR > maxR:\n",
    "            maxR = cR\n",
    "            cD = 0\n",
    "        else:\n",
    "            cD += ele\n",
    "            if cD < maxD:\n",
    "                maxD = cD\n",
    "    return maxD - maxR"
   ]
  },
  {
   "cell_type": "code",
   "execution_count": 23,
   "metadata": {},
   "outputs": [],
   "source": [
    "annualized_return = np.mean(daily_strategy_return) * 250\n",
    "annualized_stdev = np.std(daily_strategy_return) * np.sqrt(250)\n",
    "sharpe_ratio = annualized_return / annualized_stdev\n",
    "max_drawdown = calc_max_drawdown(daily_strategy_return)\n"
   ]
  },
  {
   "cell_type": "code",
   "execution_count": 24,
   "metadata": {},
   "outputs": [
    {
     "name": "stdout",
     "output_type": "stream",
     "text": [
      "Sharpe ratio =  3.226369236364533\n",
      "Average annualized return =  0.7114215095781243\n",
      "Maximum Drawdown =  -0.2128268195198797\n"
     ]
    }
   ],
   "source": [
    "print(\"Sharpe ratio = \", sharpe_ratio)\n",
    "print(\"Average annualized return = \", annualized_return)\n",
    "print(\"Maximum Drawdown = \", max_drawdown)"
   ]
  },
  {
   "cell_type": "code",
   "execution_count": null,
   "metadata": {},
   "outputs": [],
   "source": []
  }
 ],
 "metadata": {
  "kernelspec": {
   "display_name": "Python 3",
   "language": "python",
   "name": "python3"
  },
  "language_info": {
   "codemirror_mode": {
    "name": "ipython",
    "version": 3
   },
   "file_extension": ".py",
   "mimetype": "text/x-python",
   "name": "python",
   "nbconvert_exporter": "python",
   "pygments_lexer": "ipython3",
   "version": "3.9.5"
  }
 },
 "nbformat": 4,
 "nbformat_minor": 2
}
